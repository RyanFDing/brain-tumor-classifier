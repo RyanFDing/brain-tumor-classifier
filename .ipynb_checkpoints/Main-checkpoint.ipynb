{
 "cells": [
  {
   "cell_type": "code",
   "execution_count": 1,
   "id": "e0848a77-ddb4-4a47-95fe-a03da6fba54f",
   "metadata": {},
   "outputs": [],
   "source": [
    "import torch\n",
    "from torch import nn, optim\n",
    "from torchvision import datasets, transforms\n",
    "from torch.utils.data import DataLoader\n",
    "\n",
    "device = torch.device('cuda' if torch.cuda.is_available() else 'cpu')\n",
    "\n",
    "tf = transforms.Compose([transforms.Resize((128,128)), \n",
    "      transforms.ToTensor(),\n",
    "      transforms.Normalize([0.5, 0.5, 0.5], [0.5, 0.5, 0.5])\n",
    "     ]) #list of transformations\n",
    "\n",
    "train_dl = DataLoader(\n",
    "    datasets.ImageFolder('data/Training', tf),\n",
    "    batch_size=32, shuffle=True, num_workers=4, pin_memory=True\n",
    ")\n",
    "\n",
    "test_dl = DataLoader(\n",
    "    datasets.ImageFolder('data/Testing', tf),\n",
    "    batch_size=32, shuffle=False, num_workers=4, pin_memory=True\n",
    ")\n",
    "\n"
   ]
  },
  {
   "cell_type": "code",
   "execution_count": 2,
   "id": "80f79918-6041-4548-a8ff-f29949034f5a",
   "metadata": {},
   "outputs": [],
   "source": [
    "model = nn.Sequential( nn.Conv2d(3, 32, 3, 1, 1), nn.ReLU(), nn.MaxPool2d(2), \n",
    "                       nn.Conv2d(32, 64, 3, 1, 1), nn.ReLU(), nn.MaxPool2d(2), \n",
    "                       nn.Conv2d(64, 128, 3, 1, 1), nn.ReLU(), nn.MaxPool2d(2), \n",
    "                       nn.Flatten(), nn.Linear(128 * 16 * 16, 256), nn.ReLU(), nn.Dropout(0.5), \n",
    "                       nn.Linear(256, 4) \n",
    "                     )\n",
    "opt = optim.AdamW(model.parameters(), 1e-4)\n",
    "loss_fn = nn.CrossEntropyLoss()"
   ]
  },
  {
   "cell_type": "code",
   "execution_count": 3,
   "id": "f8c8c68b-8a46-4af8-98db-0a61be25967b",
   "metadata": {},
   "outputs": [
    {
     "data": {
      "text/plain": [
       "Sequential(\n",
       "  (0): Conv2d(3, 32, kernel_size=(3, 3), stride=(1, 1), padding=(1, 1))\n",
       "  (1): ReLU()\n",
       "  (2): MaxPool2d(kernel_size=2, stride=2, padding=0, dilation=1, ceil_mode=False)\n",
       "  (3): Conv2d(32, 64, kernel_size=(3, 3), stride=(1, 1), padding=(1, 1))\n",
       "  (4): ReLU()\n",
       "  (5): MaxPool2d(kernel_size=2, stride=2, padding=0, dilation=1, ceil_mode=False)\n",
       "  (6): Conv2d(64, 128, kernel_size=(3, 3), stride=(1, 1), padding=(1, 1))\n",
       "  (7): ReLU()\n",
       "  (8): MaxPool2d(kernel_size=2, stride=2, padding=0, dilation=1, ceil_mode=False)\n",
       "  (9): Flatten(start_dim=1, end_dim=-1)\n",
       "  (10): Linear(in_features=32768, out_features=256, bias=True)\n",
       "  (11): ReLU()\n",
       "  (12): Dropout(p=0.5, inplace=False)\n",
       "  (13): Linear(in_features=256, out_features=4, bias=True)\n",
       ")"
      ]
     },
     "execution_count": 3,
     "metadata": {},
     "output_type": "execute_result"
    }
   ],
   "source": [
    "model.train()"
   ]
  },
  {
   "cell_type": "code",
   "execution_count": null,
   "id": "b6dae27c-d4e4-4676-8e6e-f29e1dac8f04",
   "metadata": {},
   "outputs": [],
   "source": [
    "for epoch in range(25):\n",
    "    running_loss = 0\n",
    "\n",
    "    for x, y in train_dl:\n",
    "        opt.zero_grad()\n",
    "\n",
    "        loss = loss_fn(model(x.to(device)), y.to(device))\n",
    "        loss.backward()\n",
    "\n",
    "        \n",
    "        running_loss += loss\n",
    "\n",
    "        opt.step()\n",
    "    print(f'Epoch {epoch+1}: Loss was {running_loss}')\n",
    "    "
   ]
  },
  {
   "cell_type": "code",
   "execution_count": null,
   "id": "60818e13-ae01-4b25-9d08-1786c6f00b53",
   "metadata": {},
   "outputs": [],
   "source": [
    "model.eval()\n",
    "test_loss, correct = 0.0, 0\n",
    "\n",
    "with torch.no_grad():\n",
    "    for x, y in test_dl:\n",
    "        x, y = x.to(device), y.to(device)\n",
    "\n",
    "        logits = model(x)\n",
    "        test_loss+=loss_fn(logits, y).item() * y.size(0)\n",
    "\n",
    "        preds = logits.argmax(dim=1)\n",
    "\n",
    "        correct += (preds == y).sum().item() #sum of all predictions true\n",
    "\n",
    "test_loss /= len(test_dl.dataset)\n",
    "accuracy = 100 * correct / len(test_dl.dataset) #percentage correct classifications"
   ]
  },
  {
   "cell_type": "code",
   "execution_count": null,
   "id": "7b65bda2-cd89-4c11-b54c-d495b713bbc2",
   "metadata": {},
   "outputs": [],
   "source": [
    "print('Test Loss:', test_loss, 'Test accuracy', accuracy, '%')"
   ]
  },
  {
   "cell_type": "code",
   "execution_count": null,
   "id": "0bdccac4-a1ec-4c10-950f-248d54d8fe39",
   "metadata": {},
   "outputs": [],
   "source": [
    "import random\n",
    "\n",
    "import matploylib.pyplot as plt\n",
    "from torchvision.transforms.functional import to_pil_image #to pillow image\n",
    "\n",
    "model.eval()\n",
    "\n",
    "idx = random.randrange(len(test_dl.dataset)) \n",
    "img, label = test_dl.dataset[idx] #image and label of random index\n",
    "\n",
    "unnorm = img*0.5 + 0.5 #unnormalize image\n",
    "plt.imshow(to_pil_image(unnorm))\n",
    "plt.axis('off')\n",
    "plt.title('Sample from test set')\n",
    "plt.show() #show image\n",
    "\n",
    "with torch.no_grad():\n",
    "    logits = model(img.unsqueeze(0).to(device))\n",
    "    pred = logits.argmax(1).item() #make prediction\n",
    "\n",
    "class_names = test_dl.dataset.classes\n",
    "print(f\"Predicted class: {class_names[pred]}\") #predicted\n",
    "print(f\"Ground-truth: {class_names[label]}\") #actual"
   ]
  },
  {
   "cell_type": "code",
   "execution_count": null,
   "id": "4666a717-3353-44d4-b02b-ac90f5e16484",
   "metadata": {},
   "outputs": [],
   "source": [
    "#try different hyperparameters, learning rates, architectures, optimizers etc\n"
   ]
  },
  {
   "cell_type": "code",
   "execution_count": null,
   "id": "d1b71e2e-30d7-4d86-905d-7edcdc2dfd26",
   "metadata": {},
   "outputs": [],
   "source": []
  }
 ],
 "metadata": {
  "kernelspec": {
   "display_name": "Python 3 (ipykernel)",
   "language": "python",
   "name": "python3"
  },
  "language_info": {
   "codemirror_mode": {
    "name": "ipython",
    "version": 3
   },
   "file_extension": ".py",
   "mimetype": "text/x-python",
   "name": "python",
   "nbconvert_exporter": "python",
   "pygments_lexer": "ipython3",
   "version": "3.11.5"
  }
 },
 "nbformat": 4,
 "nbformat_minor": 5
}
